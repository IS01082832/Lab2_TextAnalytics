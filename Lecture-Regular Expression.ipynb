{
 "cells": [
  {
   "cell_type": "code",
   "execution_count": 4,
   "id": "45ec7a6a-355d-4856-9188-b2d65a79cd27",
   "metadata": {},
   "outputs": [],
   "source": [
    "import re"
   ]
  },
  {
   "cell_type": "code",
   "execution_count": 6,
   "id": "7f410302-8202-49ee-81f5-24bbfb0bd5e6",
   "metadata": {},
   "outputs": [
    {
     "name": "stdout",
     "output_type": "stream",
     "text": [
      "Matches using [abc]: ['a', 'b', 'a', 'a', 'a', 'c', 'a', 'b', 'c']\n"
     ]
    }
   ],
   "source": [
    "text = \"apple, banana, cherry, abc, xyz\"\n",
    "\n",
    "#Method 1\n",
    "pattern1 = r\"[abc]\"\n",
    "matches1 = re.findall(pattern1, text)\n",
    "print(\"Matches using [abc]:\", matches1)"
   ]
  },
  {
   "cell_type": "code",
   "execution_count": 8,
   "id": "e5849abd-cf59-491a-a292-a00a43d8679a",
   "metadata": {},
   "outputs": [
    {
     "name": "stdout",
     "output_type": "stream",
     "text": [
      "Matches using [a-c]: ['a', 'b', 'a', 'a', 'a', 'c', 'a', 'b', 'c']\n"
     ]
    }
   ],
   "source": [
    "#Method 2\n",
    "pattern2 = r\"[a-c]\"\n",
    "matches2 = re.findall(pattern2, text)\n",
    "print(\"Matches using [a-c]:\", matches2)"
   ]
  },
  {
   "cell_type": "code",
   "execution_count": 10,
   "id": "4a8f8459-6411-426c-b237-a85f46478c0f",
   "metadata": {},
   "outputs": [
    {
     "name": "stdout",
     "output_type": "stream",
     "text": [
      "Matches using [ab\\*]: ['a', '*', 'b', 'a', 'b', 'a', 'b', '*']\n"
     ]
    }
   ],
   "source": [
    "text = \"a*b abc ab*\"\n",
    "\n",
    "pattern = r\"[ab\\*]\"\n",
    "matches = re.findall(pattern, text)\n",
    "print(\"Matches using [ab\\\\*]:\", matches)"
   ]
  },
  {
   "cell_type": "code",
   "execution_count": 12,
   "id": "16dd2160-26e2-498b-81bf-78aa714b00a3",
   "metadata": {},
   "outputs": [
    {
     "name": "stdout",
     "output_type": "stream",
     "text": [
      "Characters other than 'a': ['p', 'p', 'l', 'e', ' ', 'b', 'n', 'n', ' ', 'v', 'o', 'c', 'd', 'o']\n"
     ]
    }
   ],
   "source": [
    "text = \"apple banana avocado\"\n",
    "\n",
    "# Pattern to match all characters except 'a'\n",
    "pattern = r\"[^a]\"\n",
    "\n",
    "# Find all matches\n",
    "matches = re.findall(pattern, text)\n",
    "\n",
    "print(\"Characters other than 'a':\", matches)"
   ]
  },
  {
   "cell_type": "code",
   "execution_count": 14,
   "id": "0499439d-cf51-4195-9f67-8895e22e6ff1",
   "metadata": {},
   "outputs": [
    {
     "name": "stdout",
     "output_type": "stream",
     "text": [
      "Characters 'a' or '^': ['a', '^', 'a', '^']\n"
     ]
    }
   ],
   "source": [
    "text = \"a ^ b a^c\"\n",
    "\n",
    "# Pattern to match either 'a' or '^'\n",
    "pattern = r\"[a^]\"\n",
    "\n",
    "# Find all matches\n",
    "matches = re.findall(pattern, text)\n",
    "\n",
    "print(\"Characters 'a' or '^':\", matches)"
   ]
  },
  {
   "cell_type": "code",
   "execution_count": 16,
   "id": "6253b1ab-c09e-4d5f-84c0-616723737a13",
   "metadata": {},
   "outputs": [
    {
     "name": "stdout",
     "output_type": "stream",
     "text": [
      "Matches using \\d: ['1', '2', '3', '4', '5', '6', '7']\n",
      "Matches using [0-9]: ['1', '2', '3', '4', '5', '6', '7']\n"
     ]
    }
   ],
   "source": [
    "# Match any decimal digit\n",
    "text = \"Order 123, ID: 4567\"\n",
    "pattern1 = r\"\\d\"\n",
    "pattern2 = r\"[0-9]\"\n",
    "\n",
    "matches1 = re.findall(pattern1, text)\n",
    "matches2 = re.findall(pattern2, text)\n",
    "\n",
    "print(\"Matches using \\\\d:\", matches1)  \n",
    "print(\"Matches using [0-9]:\", matches2)"
   ]
  },
  {
   "cell_type": "code",
   "execution_count": 18,
   "id": "c4602ac2-9291-44dc-b92f-520c1cc9e03d",
   "metadata": {},
   "outputs": [
    {
     "name": "stdout",
     "output_type": "stream",
     "text": [
      "Matches using \\D: ['P', 'r', 'i', 'c', 'e', ':', ' ', '$']\n",
      "Matches using [^0-9]: ['P', 'r', 'i', 'c', 'e', ':', ' ', '$']\n"
     ]
    }
   ],
   "source": [
    "# Match any non-digit character\n",
    "text = \"Price: $50\"\n",
    "pattern1 = r\"\\D\"\n",
    "pattern2 = r\"[^0-9]\"\n",
    "\n",
    "matches1 = re.findall(pattern1, text)\n",
    "matches2 = re.findall(pattern2, text)\n",
    "\n",
    "print(\"Matches using \\\\D:\", matches1) \n",
    "print(\"Matches using [^0-9]:\", matches2)"
   ]
  },
  {
   "cell_type": "code",
   "execution_count": 20,
   "id": "3535802e-d9e1-4c22-8527-4a78b51f8f01",
   "metadata": {},
   "outputs": [
    {
     "name": "stdout",
     "output_type": "stream",
     "text": [
      "Matches using \\s: ['\\t', '\\n', ' ']\n",
      "Matches using [\\t\\n\\r\\f\\v]: ['\\t', '\\n']\n"
     ]
    }
   ],
   "source": [
    "# Match any whitespace character\n",
    "text = \"Hello\\tWorld\\nNew Line\"\n",
    "pattern1 = r\"\\s\"\n",
    "pattern2 = r\"[\\t\\n\\r\\f\\v]\"\n",
    "\n",
    "matches1 = re.findall(pattern1, text)\n",
    "matches2 = re.findall(pattern2, text)\n",
    "\n",
    "print(\"Matches using \\\\s:\", matches1)\n",
    "print(\"Matches using [\\\\t\\\\n\\\\r\\\\f\\\\v]:\", matches2)"
   ]
  },
  {
   "cell_type": "code",
   "execution_count": 22,
   "id": "9cfcd9f2-5fce-49cd-a4bd-dc9fd9a305a3",
   "metadata": {},
   "outputs": [
    {
     "name": "stdout",
     "output_type": "stream",
     "text": [
      "Matches using \\S: ['P', 'y', 't', 'h', 'o', 'n', '3', '.', '9', 'i', 's', 'a', 'w', 'e', 's', 'o', 'm', 'e', '!']\n",
      "Matches using [^\\t\\n\\r\\f\\v]: ['P', 'y', 't', 'h', 'o', 'n', ' ', '3', '.', '9', 'i', 's', 'a', 'w', 'e', 's', 'o', 'm', 'e', '!']\n"
     ]
    }
   ],
   "source": [
    "# Match any non-whitespace character\n",
    "text = \"Python 3.9\\tis\\nawesome!\"\n",
    "pattern1 = r\"\\S\"\n",
    "pattern2 = r\"[^\\t\\n\\r\\f\\v]\"\n",
    "\n",
    "matches1 = re.findall(pattern1, text)\n",
    "matches2 = re.findall(pattern2, text)\n",
    "\n",
    "print(\"Matches using \\\\S:\", matches1)\n",
    "print(\"Matches using [^\\\\t\\\\n\\\\r\\\\f\\\\v]:\", matches2)"
   ]
  },
  {
   "cell_type": "code",
   "execution_count": 24,
   "id": "8f47bb93-21a5-4fb0-ae7d-f48ad30bb056",
   "metadata": {},
   "outputs": [
    {
     "name": "stdout",
     "output_type": "stream",
     "text": [
      "Matches using \\w: ['H', 'e', 'l', 'l', 'o', '_', '1', '2', '3']\n",
      "Matches using [a-zA-Z0-9_]: ['H', 'e', 'l', 'l', 'o', '_', '1', '2', '3']\n"
     ]
    }
   ],
   "source": [
    "# Match any alphanumeric character\n",
    "text = \"Hello_123!\"\n",
    "pattern1 = r\"\\w\"\n",
    "pattern2 = r\"[a-zA-Z0-9_]\"\n",
    "\n",
    "matches1 = re.findall(pattern1, text)\n",
    "matches2 = re.findall(pattern2, text)\n",
    "\n",
    "print(\"Matches using \\\\w:\", matches1)\n",
    "print(\"Matches using [a-zA-Z0-9_]:\", matches2)"
   ]
  },
  {
   "cell_type": "code",
   "execution_count": 26,
   "id": "ad16edfb-d680-40e6-be52-99a609862078",
   "metadata": {},
   "outputs": [
    {
     "name": "stdout",
     "output_type": "stream",
     "text": [
      "Matches using \\W: [',', ' ', '!', ' ', '.']\n",
      "Matches using [^a-zA-Z0-9_]: [',', ' ', '!', ' ', '.']\n"
     ]
    }
   ],
   "source": [
    "# Match any non-alphanumeric character\n",
    "text = \"Hello, World! 2024.\"\n",
    "pattern1 = r\"\\W\"\n",
    "pattern2 = r\"[^a-zA-Z0-9_]\"\n",
    "\n",
    "matches1 = re.findall(pattern1, text)\n",
    "matches2 = re.findall(pattern2, text)\n",
    "\n",
    "print(\"Matches using \\\\W:\", matches1)\n",
    "print(\"Matches using [^a-zA-Z0-9_]:\", matches2)"
   ]
  },
  {
   "cell_type": "code",
   "execution_count": 28,
   "id": "bfa01fb6-1d3f-408e-91e4-6a164835b45f",
   "metadata": {},
   "outputs": [
    {
     "name": "stdout",
     "output_type": "stream",
     "text": [
      "['8', '23', '886', '4567', '78453']\n"
     ]
    }
   ],
   "source": [
    "str1 = \"Numbers are 8,23, 886, 4567, 78453\" \n",
    "# asterisk sign(*) to match 0 or more repetitions \n",
    "\n",
    "result = re.findall(r\"\\d\\d*\", str1) \n",
    "print(result)"
   ]
  },
  {
   "cell_type": "code",
   "execution_count": 30,
   "id": "787205cd-905e-4117-b7b2-88e0b200f8bd",
   "metadata": {},
   "outputs": [
    {
     "name": "stdout",
     "output_type": "stream",
     "text": [
      "['23', '886', '4567', '78453']\n"
     ]
    }
   ],
   "source": [
    "str2 = \"Numbers are 8,23, 886, 4567, 78453\"\n",
    "# Plus sign(+) to match 1 or more repetitions\n",
    "\n",
    "result2 = re.findall(r\"\\d\\d+\", str1)\n",
    "print(result2)"
   ]
  },
  {
   "cell_type": "code",
   "execution_count": 32,
   "id": "fa8ad5d4-eef2-4258-ae52-725478af9c9c",
   "metadata": {},
   "outputs": [
    {
     "name": "stdout",
     "output_type": "stream",
     "text": [
      "['ct', 'cat']\n",
      "['cat']\n"
     ]
    }
   ],
   "source": [
    "str3 = \"ct likes cat\"\n",
    "\n",
    "result3 = re.findall('ca*t', str3)\n",
    "print(result3)\n",
    "\n",
    "result4 = re.findall('ca+t', str3)\n",
    "print(result4)"
   ]
  },
  {
   "cell_type": "code",
   "execution_count": 34,
   "id": "39abfc51-641c-4ee3-bd9f-9e0d0a1d68b7",
   "metadata": {},
   "outputs": [
    {
     "name": "stdout",
     "output_type": "stream",
     "text": [
      "['copy-', 'copy']\n"
     ]
    }
   ],
   "source": [
    "str4 = \"poppy likes to copy-cat. bobby likes to copy things.\"\n",
    "\n",
    "result5 = re.findall('copy-?', str4)\n",
    "print(result5)"
   ]
  },
  {
   "cell_type": "code",
   "execution_count": 36,
   "id": "9082ca14-ee0b-4e0c-b047-1200513358db",
   "metadata": {},
   "outputs": [
    {
     "name": "stdout",
     "output_type": "stream",
     "text": [
      "['bok', 'book', 'boook']\n"
     ]
    }
   ],
   "source": [
    "str5 = \"poppy likes to read boks. bobby likes to read books. ronnie likes to read boooks. they all love booooooks\"\n",
    "\n",
    "result6 = re.findall('bo{1,3}k', str5)\n",
    "print(result6)"
   ]
  },
  {
   "cell_type": "code",
   "execution_count": null,
   "id": "f72696a9-1661-4f99-a223-4b5513eab34a",
   "metadata": {},
   "outputs": [],
   "source": []
  }
 ],
 "metadata": {
  "kernelspec": {
   "display_name": "anaconda-panel-2023.05-py310",
   "language": "python",
   "name": "conda-env-anaconda-panel-2023.05-py310-py"
  },
  "language_info": {
   "codemirror_mode": {
    "name": "ipython",
    "version": 3
   },
   "file_extension": ".py",
   "mimetype": "text/x-python",
   "name": "python",
   "nbconvert_exporter": "python",
   "pygments_lexer": "ipython3",
   "version": "3.11.5"
  }
 },
 "nbformat": 4,
 "nbformat_minor": 5
}
