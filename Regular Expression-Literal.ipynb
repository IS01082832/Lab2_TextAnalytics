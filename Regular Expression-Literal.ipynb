{
 "cells": [
  {
   "cell_type": "code",
   "execution_count": 9,
   "id": "b3a7ca16-ce7d-4217-b746-06bb341d52f8",
   "metadata": {},
   "outputs": [],
   "source": [
    "#importing regular expression library  \n",
    "import re"
   ]
  },
  {
   "cell_type": "code",
   "execution_count": 11,
   "id": "8e122a45-e684-4e46-8477-8c949ed3a6a4",
   "metadata": {},
   "outputs": [
    {
     "name": "stdout",
     "output_type": "stream",
     "text": [
      "<re.Match object; span=(0, 1), match='I'>\n"
     ]
    }
   ],
   "source": [
    "#using re.match  \n",
    "#to find the first occurrence of the letter 'I' in the string  \n",
    "\n",
    "sentence1 = re.match (r'I', 'I am learning text analytics')  \n",
    "print (sentence1)"
   ]
  },
  {
   "cell_type": "code",
   "execution_count": null,
   "id": "b8230f69-3c0a-4377-8bfe-d5cb0cacb2f7",
   "metadata": {},
   "outputs": [],
   "source": [
    "#using re.match  \n",
    "#to find the first occurrence of the letter 'v' in the string  \n",
    "sentence2 = re.match (r'v', 'I am learning text analytics')  \n",
    "print (sentence2)"
   ]
  },
  {
   "cell_type": "code",
   "execution_count": 15,
   "id": "dbe55075-7f87-4f82-80c0-e59536ac814e",
   "metadata": {},
   "outputs": [
    {
     "name": "stdout",
     "output_type": "stream",
     "text": [
      "None\n"
     ]
    }
   ],
   "source": [
    "#using re.match  \n",
    "#to find the first occurrence of the letter 'am' in the string  \n",
    "\n",
    "sentence3 = re.match (r'am', 'I am learning text analytics')  \n",
    "print (sentence3) "
   ]
  },
  {
   "cell_type": "code",
   "execution_count": 21,
   "id": "2493295a-06e5-45b6-8ec8-a2f7f8cad9dc",
   "metadata": {},
   "outputs": [
    {
     "name": "stdout",
     "output_type": "stream",
     "text": [
      "<re.Match object; span=(2, 4), match='am'>\n"
     ]
    }
   ],
   "source": [
    "sentence4 = re.search(r'am', 'I am learning text analytics')  \n",
    "print (sentence4)"
   ]
  },
  {
   "cell_type": "code",
   "execution_count": 23,
   "id": "affff5ed-93dc-4326-ac69-64d776e3665a",
   "metadata": {},
   "outputs": [
    {
     "name": "stdout",
     "output_type": "stream",
     "text": [
      "<re.Match object; span=(2, 4), match='am'>\n"
     ]
    }
   ],
   "source": [
    "sentence5 = re.search(r'am', 'I am learning text analytics and am enjoying it')   \n",
    "print (sentence5)"
   ]
  },
  {
   "cell_type": "code",
   "execution_count": 25,
   "id": "00aceb9c-f8f4-4370-96e1-7bc8f4f0316a",
   "metadata": {},
   "outputs": [
    {
     "name": "stdout",
     "output_type": "stream",
     "text": [
      "['am', 'am']\n"
     ]
    }
   ],
   "source": [
    "sentence6 = re.findall(r'am', 'I am learning text analytics and am enjoying it')   \n",
    "print (sentence6)"
   ]
  },
  {
   "cell_type": "code",
   "execution_count": 27,
   "id": "47a92a6e-b794-454f-b1f7-702e65c9a8a0",
   "metadata": {},
   "outputs": [
    {
     "name": "stdout",
     "output_type": "stream",
     "text": [
      "['I am learning text analytics ', ' am enjoying it']\n"
     ]
    }
   ],
   "source": [
    "sentence7 = re.split(r'and', 'I am learning text analytics and am enjoying it')   \n",
    "print (sentence7)"
   ]
  },
  {
   "cell_type": "code",
   "execution_count": 29,
   "id": "d7557845-7fe8-448b-ba9b-a823d6901a9f",
   "metadata": {},
   "outputs": [
    {
     "name": "stdout",
     "output_type": "stream",
     "text": [
      "['I ', ' learning text analytics and ', ' enjoying it']\n"
     ]
    }
   ],
   "source": [
    "sentence8 = re.split(r'am', 'I am learning text analytics and am enjoying it')   \n",
    "print (sentence8)"
   ]
  },
  {
   "cell_type": "code",
   "execution_count": 31,
   "id": "ce9372ac-4a3e-4156-be57-f7badc11be81",
   "metadata": {},
   "outputs": [
    {
     "name": "stdout",
     "output_type": "stream",
     "text": [
      "['I ', ' learning text analytics and am enjoying it']\n"
     ]
    }
   ],
   "source": [
    "sentence9 = re.split(r'am', 'I am learning text analytics and am enjoying it', maxsplit=1)  \n",
    "print (sentence9)"
   ]
  },
  {
   "cell_type": "code",
   "execution_count": 33,
   "id": "3aa8f0aa-cdd8-4be3-aa7e-533423ae1f13",
   "metadata": {},
   "outputs": [
    {
     "name": "stdout",
     "output_type": "stream",
     "text": [
      "['I ', ' learning text analytics and ', ' enjoying it']\n"
     ]
    }
   ],
   "source": [
    "sentence9 = re.split(r'am', 'I am learning text analytics and am enjoying it', maxsplit=2)  \n",
    "print (sentence9)"
   ]
  },
  {
   "cell_type": "code",
   "execution_count": 35,
   "id": "e74ec42d-53b4-425d-8b03-8e0c18e2db85",
   "metadata": {},
   "outputs": [
    {
     "name": "stdout",
     "output_type": "stream",
     "text": [
      "['I ', ' learning text analytics, I ', ' enjoying it and I ', ' going to ace it']\n"
     ]
    }
   ],
   "source": [
    "sentence10 = re.split(r'am', 'I am learning text analytics, I am enjoying it and I am going to ace it', maxsplit=3)  \n",
    "print (sentence10)"
   ]
  },
  {
   "cell_type": "code",
   "execution_count": 37,
   "id": "3d332efb-21fd-449b-90c9-5e472dd0197e",
   "metadata": {},
   "outputs": [
    {
     "name": "stdout",
     "output_type": "stream",
     "text": [
      "we like text analytics and we enjoy learning it\n"
     ]
    }
   ],
   "source": [
    "sentence11 = re.sub(r'I', 'we', 'I like text analytics and I enjoy learning it')  \n",
    "print (sentence11)"
   ]
  },
  {
   "cell_type": "code",
   "execution_count": null,
   "id": "fcda3345-6c18-4786-825a-2af1a99c4555",
   "metadata": {},
   "outputs": [],
   "source": []
  }
 ],
 "metadata": {
  "kernelspec": {
   "display_name": "anaconda-panel-2023.05-py310",
   "language": "python",
   "name": "conda-env-anaconda-panel-2023.05-py310-py"
  },
  "language_info": {
   "codemirror_mode": {
    "name": "ipython",
    "version": 3
   },
   "file_extension": ".py",
   "mimetype": "text/x-python",
   "name": "python",
   "nbconvert_exporter": "python",
   "pygments_lexer": "ipython3",
   "version": "3.11.5"
  }
 },
 "nbformat": 4,
 "nbformat_minor": 5
}
