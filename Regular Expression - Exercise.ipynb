{
 "cells": [
  {
   "cell_type": "code",
   "execution_count": 2,
   "id": "f53430b4-c72b-4560-b231-c046ef182835",
   "metadata": {},
   "outputs": [],
   "source": [
    "import re"
   ]
  },
  {
   "cell_type": "code",
   "execution_count": 4,
   "id": "181480a9-a9f1-4e83-9aed-644a23af4c9e",
   "metadata": {},
   "outputs": [
    {
     "name": "stdout",
     "output_type": "stream",
     "text": [
      "Digits found: ['2', '4', '5', '6', '7', '8', '9', '3', '4', '1', '2', '3', '0']\n"
     ]
    }
   ],
   "source": [
    "import re\n",
    "\n",
    "text = \"Order number: 24567, Tracking ID: 8934A12, Quantity: 30\"\n",
    "# Write your regular expression here\n",
    "pattern = r'\\d'\n",
    "matches = re.findall(pattern, text)\n",
    "print(\"Digits found:\", matches)"
   ]
  },
  {
   "cell_type": "code",
   "execution_count": 6,
   "id": "363f65d6-e624-4981-bfd2-9f005034dbf0",
   "metadata": {},
   "outputs": [
    {
     "name": "stdout",
     "output_type": "stream",
     "text": [
      "Non-alphanumeric characters: ['!', ' ', \"'\", ' ', ' ', ' ', '?', ' ', ' ', ' ', '@', ' ', '.']\n"
     ]
    }
   ],
   "source": [
    "text = \"Welcome! How's your day going? Call me @ 3pm.\"\n",
    "pattern = r'\\W'\n",
    "matches = re.findall(pattern, text)\n",
    "print(\"Non-alphanumeric characters:\", matches)"
   ]
  },
  {
   "cell_type": "code",
   "execution_count": 8,
   "id": "7bf81a54-0977-41fb-b086-8c7e1198fc64",
   "metadata": {},
   "outputs": [
    {
     "name": "stdout",
     "output_type": "stream",
     "text": [
      "Split text: ['Data Science', ' AI', ' and Machine Learning', ' These fields are growing fast', '']\n"
     ]
    }
   ],
   "source": [
    "text = \"Data Science, AI, and Machine Learning. These fields are growing fast.\"\n",
    "pattern = r'[,.]'\n",
    "split_text = re.split(pattern, text)\n",
    "print(\"Split text:\", split_text)"
   ]
  },
  {
   "cell_type": "code",
   "execution_count": 10,
   "id": "fad8348a-b948-4fc1-b5c6-85ab2dd60d7e",
   "metadata": {},
   "outputs": [
    {
     "name": "stdout",
     "output_type": "stream",
     "text": [
      "Anonymized text: Contact us at [HIDDEN] or [HIDDEN]\n"
     ]
    }
   ],
   "source": [
    "text = \"Contact us at support@example.com or info@company.org\"\n",
    "pattern = r'\\w*@\\w+(\\w+.\\w+)'\n",
    "new_text = re.sub(pattern, \"[HIDDEN]\", text)\n",
    "print(\"Anonymized text:\", new_text)"
   ]
  },
  {
   "cell_type": "code",
   "execution_count": 12,
   "id": "d08e608a-b043-4084-81d3-07daa0117f39",
   "metadata": {},
   "outputs": [
    {
     "name": "stdout",
     "output_type": "stream",
     "text": [
      "Domain types: ['com', 'edu', 'org']\n"
     ]
    }
   ],
   "source": [
    "text = \"Emails: user@gmail.com, admin@university.edu, info@company.org\"\n",
    "pattern = r'@\\w+.(\\w+.\\w+)'\n",
    "matches = re.findall(pattern, text)\n",
    "print(\"Domain types:\", matches)"
   ]
  },
  {
   "cell_type": "code",
   "execution_count": null,
   "id": "d52d3d2c-84f7-4b23-afe4-ff215cebd083",
   "metadata": {},
   "outputs": [],
   "source": []
  }
 ],
 "metadata": {
  "kernelspec": {
   "display_name": "anaconda-panel-2023.05-py310",
   "language": "python",
   "name": "conda-env-anaconda-panel-2023.05-py310-py"
  },
  "language_info": {
   "codemirror_mode": {
    "name": "ipython",
    "version": 3
   },
   "file_extension": ".py",
   "mimetype": "text/x-python",
   "name": "python",
   "nbconvert_exporter": "python",
   "pygments_lexer": "ipython3",
   "version": "3.11.5"
  }
 },
 "nbformat": 4,
 "nbformat_minor": 5
}
